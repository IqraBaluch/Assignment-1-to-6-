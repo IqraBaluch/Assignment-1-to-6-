{
 "cells": [
  {
   "cell_type": "markdown",
   "metadata": {},
   "source": [
    "# Python Assignments (1 - 6 )"
   ]
  },
  {
   "cell_type": "markdown",
   "metadata": {},
   "source": [
    "# Assignment # 1"
   ]
  },
  {
   "cell_type": "code",
   "execution_count": 1,
   "metadata": {},
   "outputs": [
    {
     "name": "stdout",
     "output_type": "stream",
     "text": [
      "iqra\n"
     ]
    }
   ],
   "source": [
    "print(\"iqra\")"
   ]
  },
  {
   "cell_type": "code",
   "execution_count": 2,
   "metadata": {},
   "outputs": [
    {
     "name": "stdout",
     "output_type": "stream",
     "text": [
      "Twinkle, twinkle, little star, \n",
      "\tHow I wonder what you are! \n",
      "\t\tUp above the world so high, \n",
      "\t\tLike a diamond in the sky. \n",
      "Twinkle, twinkle, little star, \n",
      "\tHow I wonder what you are!\n"
     ]
    }
   ],
   "source": [
    "print(\"Twinkle, twinkle, little star, \\n\\tHow I wonder what you are! \\n\\t\\tUp above the world so high, \\n\\t\\tLike a diamond in the sky. \\nTwinkle, twinkle, little star, \\n\\tHow I wonder what you are!\")"
   ]
  },
  {
   "cell_type": "code",
   "execution_count": 3,
   "metadata": {},
   "outputs": [
    {
     "name": "stdout",
     "output_type": "stream",
     "text": [
      "3.7.4 (default, Aug  9 2019, 18:34:13) [MSC v.1915 64 bit (AMD64)]\n"
     ]
    }
   ],
   "source": [
    "import sys\n",
    "print(sys.version)"
   ]
  },
  {
   "cell_type": "code",
   "execution_count": 4,
   "metadata": {},
   "outputs": [
    {
     "name": "stdout",
     "output_type": "stream",
     "text": [
      "2019-12-20 15:42:22.195839\n"
     ]
    }
   ],
   "source": [
    "from datetime import datetime\n",
    "\n",
    "print(datetime.now())"
   ]
  },
  {
   "cell_type": "code",
   "execution_count": 5,
   "metadata": {},
   "outputs": [
    {
     "name": "stdout",
     "output_type": "stream",
     "text": [
      "Input the radius of the circle : 56\n",
      "The area of the circle with radius 56.0 is: 9852.03456165759\n"
     ]
    }
   ],
   "source": [
    "from math import pi\n",
    "r = float(input (\"Input the radius of the circle : \"))\n",
    "print (\"The area of the circle with radius \" + str(r) + \" is: \" + str(pi * r**2))"
   ]
  },
  {
   "cell_type": "code",
   "execution_count": 6,
   "metadata": {},
   "outputs": [
    {
     "name": "stdout",
     "output_type": "stream",
     "text": [
      "Enter your First Name :iqra\n",
      "Enter your last Name :anwar\n",
      "iqra anwar\n"
     ]
    }
   ],
   "source": [
    "fname=input(\"Enter your First Name :\")\n",
    "name2=input(\"Enter your last Name :\")\n",
    "print(fname, name2)"
   ]
  },
  {
   "cell_type": "code",
   "execution_count": 7,
   "metadata": {},
   "outputs": [
    {
     "name": "stdout",
     "output_type": "stream",
     "text": [
      "enter first number: 78\n",
      "enter second number: 8\n",
      "sum: 86\n"
     ]
    }
   ],
   "source": [
    "a = int(input(\"enter first number: \"))\n",
    "b = int(input(\"enter second number: \"))\n",
    " \n",
    "sum = a + b\n",
    " \n",
    "print(\"sum:\", sum)"
   ]
  },
  {
   "cell_type": "markdown",
   "metadata": {},
   "source": [
    "# Assignment # 2"
   ]
  },
  {
   "cell_type": "code",
   "execution_count": 8,
   "metadata": {},
   "outputs": [
    {
     "name": "stdout",
     "output_type": "stream",
     "text": [
      "STUDENTS' MARKSHEET\n",
      "Enter marks in Maths: 56\n",
      "Enter marks in Physics: 6\n",
      "Enter marks in Chemistry: 45\n",
      "Enter marks in English: 35\n",
      "Enter marks in Computer: 24\n",
      "Total Marks are: 166\n",
      "Percentage Marks are: 33.2\n",
      "Grade: F\n",
      "Remarks: FAILURE\n",
      "Failed subjects count: 5\n",
      "Failed subjects name: Math Physics Chemistry English Computer \n"
     ]
    }
   ],
   "source": [
    "\n",
    "print(\"STUDENTS' MARKSHEET\")\n",
    "sub1 = int(input(\"Enter marks in Maths: \"))\n",
    "sub2 = int(input(\"Enter marks in Physics: \"))\n",
    "sub3 = int(input(\"Enter marks in Chemistry: \"))\n",
    "sub4 = int(input(\"Enter marks in English: \"))\n",
    "sub5 = int(input(\"Enter marks in Computer: \"))\n",
    "\n",
    "total = (sub1 + sub2 + sub3 + sub4 + sub5)\n",
    "avg = total/5\n",
    "print(\"Total Marks are:\",total)\n",
    "print(\"Percentage Marks are:\",avg)\n",
    "if (avg>=90) :\n",
    "    print(\"Grade: A\")\n",
    "    print(\"Remarks: EXCELLENCE\")\n",
    "elif (avg>=80 and avg<90) :\n",
    "    print(\"Grade: B\")\n",
    "    print(\"Remarks: VERY GOOD\")\n",
    "elif (avg>=70 and avg<80) :\n",
    "    print(\"Grade: C\")\n",
    "    print(\"Remarks: GOOD\")\n",
    "elif (avg>=60 and avg<70) :\n",
    "    print(\"Grade: D\")\n",
    "    print(\"Remarks: FAIR\")\n",
    "else :\n",
    "    print(\"Grade: F\")\n",
    "    print(\"Remarks: FAILURE\")\n",
    "i = 0\n",
    "subs_name = \"\"\n",
    "if sub1 <60 :\n",
    "    i = i + 1\n",
    "    subs_name += \"Math \"\n",
    "if sub2 <60 :\n",
    "    i = i + 1\n",
    "    subs_name += \"Physics \"\n",
    "if sub3 <60 :\n",
    "    i = i + 1\n",
    "    subs_name += \"Chemistry \"\n",
    "if sub4 <60 :\n",
    "    i = i + 1\n",
    "    subs_name += \"English \"\n",
    "if sub5 <60 :\n",
    "    i = i + 1\n",
    "    subs_name += \"Computer \"\n",
    "print(\"Failed subjects count:\",i)\n",
    "print(\"Failed subjects name:\",subs_name)"
   ]
  },
  {
   "cell_type": "code",
   "execution_count": 9,
   "metadata": {},
   "outputs": [
    {
     "name": "stdout",
     "output_type": "stream",
     "text": [
      "Enter a number 5\n",
      "5 is odd number\n"
     ]
    }
   ],
   "source": [
    "x = int(input(\"Enter a number \"))\n",
    "\n",
    "if x%2==0 :\n",
    "    print(x,\"is even number\")\n",
    "else :\n",
    "    print(x,\"is odd number\")"
   ]
  },
  {
   "cell_type": "code",
   "execution_count": 10,
   "metadata": {},
   "outputs": [
    {
     "name": "stdout",
     "output_type": "stream",
     "text": [
      "Length Of List\n",
      "7\n"
     ]
    }
   ],
   "source": [
    "print(\"Length Of List\")\n",
    "list=[22,21,33,44,5,5,5]\n",
    "print(len(list))"
   ]
  },
  {
   "cell_type": "code",
   "execution_count": 11,
   "metadata": {},
   "outputs": [
    {
     "name": "stdout",
     "output_type": "stream",
     "text": [
      "sum of list= 135\n"
     ]
    }
   ],
   "source": [
    "list=[22,21,33,4,55]\n",
    "x=len(list)\n",
    "sum=0\n",
    "for i in range (x):\n",
    "    sum=sum+list[i]\n",
    "print(\"sum of list=\",sum)"
   ]
  },
  {
   "cell_type": "code",
   "execution_count": 12,
   "metadata": {},
   "outputs": [
    {
     "name": "stdout",
     "output_type": "stream",
     "text": [
      "55\n"
     ]
    }
   ],
   "source": [
    "list=[22,21,33,44,55]\n",
    "print(max(list))"
   ]
  },
  {
   "cell_type": "code",
   "execution_count": 13,
   "metadata": {},
   "outputs": [
    {
     "name": "stdout",
     "output_type": "stream",
     "text": [
      "1\n",
      "1\n",
      "2\n",
      "3\n"
     ]
    }
   ],
   "source": [
    "list=[1,1,2,3,5,8,13,21,34,55,89]\n",
    "x=len(list)\n",
    "for i in range(x):\n",
    "    if list[i]<5:\n",
    "        print(list[i])"
   ]
  },
  {
   "cell_type": "markdown",
   "metadata": {},
   "source": [
    "# Assignment # 3"
   ]
  },
  {
   "cell_type": "code",
   "execution_count": 14,
   "metadata": {},
   "outputs": [
    {
     "name": "stdout",
     "output_type": "stream",
     "text": [
      "Calculatr\n",
      "Select an operation.\n",
      "+\n",
      "-\n",
      "*\n",
      "/\n",
      "Enter operator to use:/\n",
      "Enter first number: 3\n",
      "Enter second number: 4\n",
      "3 / 4 = 0.75\n"
     ]
    }
   ],
   "source": [
    "print(\"Calculatr\")\n",
    "print(\"Select an operation.\")\n",
    "print(\"+\")\n",
    "print(\"-\")\n",
    "print(\"*\")\n",
    "print(\"/\")\n",
    "choice = input(\"Enter operator to use:\")\n",
    "A = int(input(\"Enter first number: \"))\n",
    "B = int(input(\"Enter second number: \"))\n",
    "if choice == '+':\n",
    "    ans=A+B \n",
    "    print(A,\"+\",B,\"=\", ans)\n",
    "elif choice == '-':\n",
    "    ans=A+B \n",
    "    print(A,\"-\",B,\"=\", ans)\n",
    "elif choice == '*':\n",
    "    ans=A*B\n",
    "    print(A,\"*\",B,\"=\", ans)\n",
    "elif choice == '/':\n",
    "    ans=A/B      \n",
    "    print(A,\"/\",B,\"=\", ans)\n",
    "else:\n",
    "    print(\"Invalid input\")"
   ]
  },
  {
   "cell_type": "code",
   "execution_count": 16,
   "metadata": {},
   "outputs": [
    {
     "name": "stdout",
     "output_type": "stream",
     "text": [
      "Checking if Number exists in list : \n",
      "Enter number: 7\n",
      "Element Not Exists\n"
     ]
    }
   ],
   "source": [
    "test_list = [ \"A\", 6, 'C', 5, 3, 4 ] \n",
    "print(\"Checking if Number exists in list : \") \n",
    "# Checking if Number exists in list  \n",
    "# using loop \n",
    "A = int(input(\"Enter number: \"))\n",
    "for i in test_list: \n",
    "    if(i == A): \n",
    "        print (\"Element Exists\") \n",
    "else:\n",
    "    print (\"Element Not Exists\")"
   ]
  },
  {
   "cell_type": "code",
   "execution_count": 17,
   "metadata": {},
   "outputs": [
    {
     "name": "stdout",
     "output_type": "stream",
     "text": [
      "{0: 10, 1: 20}\n",
      "{0: 10, 1: 20, 2: 30}\n"
     ]
    }
   ],
   "source": [
    "d = {0:10, 1:20}\n",
    "print(d)\n",
    "d.update({2:30})\n",
    "print(d)"
   ]
  },
  {
   "cell_type": "code",
   "execution_count": 36,
   "metadata": {},
   "outputs": [
    {
     "data": {
      "text/plain": [
       "135"
      ]
     },
     "execution_count": 36,
     "metadata": {},
     "output_type": "execute_result"
    }
   ],
   "source": [
    "dict = {'a': 100, 'b':30, 'c':5} \n",
    "sum"
   ]
  },
  {
   "cell_type": "code",
   "execution_count": 37,
   "metadata": {},
   "outputs": [
    {
     "name": "stdout",
     "output_type": "stream",
     "text": [
      "[3, 9, 12]\n"
     ]
    }
   ],
   "source": [
    "lst = [ 3, 6, 9, 12, 3, 30, 15, 9, 45, 36, 12, 12]\n",
    "dupItems = []\n",
    "uniqItems = {}\n",
    "for x in lst:\n",
    "   if x not in uniqItems:\n",
    "      uniqItems[x] = 1\n",
    "   else:\n",
    "      if uniqItems[x] == 1:\n",
    "         dupItems.append(x)\n",
    "      uniqItems[x] += 1\n",
    "print(dupItems)"
   ]
  },
  {
   "cell_type": "code",
   "execution_count": 38,
   "metadata": {},
   "outputs": [
    {
     "name": "stdout",
     "output_type": "stream",
     "text": [
      "Enter first number: 4\n",
      "Key is present in the dictionary\n"
     ]
    }
   ],
   "source": [
    "d = {1: 10, 2: 20, 3: 30, 4: 40, 5: 50, 6: 60}\n",
    "A = int(input(\"Enter first number: \"))\n",
    "if A in d:\n",
    "    print('Key is present in the dictionary')\n",
    "else:\n",
    "      print('Key is not present in the dictionary')"
   ]
  },
  {
   "cell_type": "markdown",
   "metadata": {},
   "source": [
    "# Assignment # 4"
   ]
  },
  {
   "cell_type": "code",
   "execution_count": 44,
   "metadata": {},
   "outputs": [
    {
     "name": "stdout",
     "output_type": "stream",
     "text": [
      "f_name = Muhammad\n",
      "l_name = Aaqib\n",
      "age = 21\n",
      "city = karachi\n",
      "------------------\n",
      "f_name = Muhammad\n",
      "l_name = Aaqib\n",
      "age = 21\n",
      "city = karachi\n",
      "qualification = Inter\n",
      "------------------\n",
      "f_name = Muhammad\n",
      "l_name = Aaqib\n",
      "age = 21\n",
      "city = karachi\n",
      "qualification = High Academic Level\n",
      "------------------\n",
      "f_name = Muhammad\n",
      "l_name = Aaqib\n",
      "age = 21\n",
      "city = karachi\n"
     ]
    }
   ],
   "source": [
    "a = {\n",
    "    \"f_name\" :\"Muhammad\",\n",
    "    \"l_name\" :\"Aaqib\",\n",
    "    \"age\" : 21,\n",
    "    \"city\" : \"karachi\"\n",
    "    }\n",
    "\n",
    "for key, value in a.items():\n",
    "    print(key + \" = \"+str(value))\n",
    "    \n",
    "print(\"------------------\")\n",
    "    \n",
    "# Adding\n",
    "a[\"qualification\"]=\"Inter\"\n",
    "for key, value in a.items():\n",
    "    print(key + \" = \"+str(value))\n",
    "    \n",
    "print(\"------------------\")\n",
    "    \n",
    "# Updating\n",
    "a[\"qualification\"]=\"High Academic Level\"\n",
    "for key, value in a.items():\n",
    "    print(key + \" = \"+str(value))\n",
    "    \n",
    "print(\"------------------\")\n",
    "\n",
    "# Deleting\n",
    "del a[\"qualification\"]\n",
    "for key, value in a.items():\n",
    "    print(key + \" = \"+str(value))"
   ]
  },
  {
   "cell_type": "code",
   "execution_count": 43,
   "metadata": {},
   "outputs": [
    {
     "name": "stdout",
     "output_type": "stream",
     "text": [
      "karachi   {'country': 'Pakistan', 'population': 15741000, 'fact': 'The city of lights'}\n",
      "Hub Chowki   {'country': 'Pakistan', 'population': 12188000, 'fact': 'Famous for food'}\n",
      "Gadani   {'country': 'Pakistan', ' population': 1095064, 'fact': 'Capital of Pakistan'}\n"
     ]
    }
   ],
   "source": [
    "cities ={\n",
    "    \"karachi\":{\n",
    "        \"country\" : \"Pakistan\",\n",
    "        \"population\" : 15741000,\n",
    "        \"fact\" : \"The city of lights\"\n",
    "    },\n",
    "    \"Hub Chowki\":{\n",
    "        \"country\" : \"Pakistan\", \n",
    "        \"population\" : 12188000,\n",
    "        \"fact\" : \"Famous for food\"\n",
    "        \n",
    "    },\n",
    "    \"Gadani\":\n",
    "    {\n",
    "        \"country\" : \"Pakistan\",\n",
    "       \" population\" : 1095064 , \n",
    "        \"fact\" : \"Capital of Pakistan\"\n",
    "    }}\n",
    "\n",
    "for key, value in cities.items():\n",
    "    print(key,\" \",value )"
   ]
  },
  {
   "cell_type": "code",
   "execution_count": 45,
   "metadata": {},
   "outputs": [
    {
     "name": "stdout",
     "output_type": "stream",
     "text": [
      "Enter your age: 21\n",
      "Ticket is 15$\n"
     ]
    }
   ],
   "source": [
    "for i in range(1):\n",
    "    age = int(input(\"Enter your age: \"))\n",
    "    if age<=3:\n",
    "        print(\"Ticket is free\")\n",
    "    elif age>3 and age <= 12:\n",
    "        ticket = 10\n",
    "        print(\"Ticket is \"+str(ticket)+ \"$\")\n",
    "    elif age>12:\n",
    "        ticket = 15\n",
    "        print(\"Ticket is \"+str(ticket)+ \"$\")\n",
    "    else:\n",
    "        break"
   ]
  },
  {
   "cell_type": "code",
   "execution_count": 46,
   "metadata": {},
   "outputs": [
    {
     "name": "stdout",
     "output_type": "stream",
     "text": [
      "One of my favourite books is Jannat k Patty\n"
     ]
    }
   ],
   "source": [
    "def favourite_book(title):\n",
    "    print(\"One of my favourite books is \"+title)\n",
    "title=\"Jannat k Patty\"\n",
    "favourite_book(title)"
   ]
  },
  {
   "cell_type": "code",
   "execution_count": 48,
   "metadata": {},
   "outputs": [
    {
     "name": "stdout",
     "output_type": "stream",
     "text": [
      "\t***GUESS THE NUMBER GAME***\n",
      "\n",
      "Enter a num between 1-30 to check your guess:\n",
      "5\n",
      "Greater than hidden number!\n",
      "Enter a num between 1-30 to check your guess:\n",
      "7\n",
      "Greater than hidden number!\n",
      "Enter a num between 1-30 to check your guess:\n",
      "6\n",
      "Greater than hidden number!\n",
      "\n",
      "\t\tGAME OVER\n"
     ]
    }
   ],
   "source": [
    "import random\n",
    "r_num=random.randint(1,30)\n",
    "print(\"\\t***GUESS THE NUMBER GAME***\\n\")\n",
    "for i in range (3):\n",
    "    print(\"Enter a num between 1-30 to check your guess:\")\n",
    "    e_num=int(input(\"\"))\n",
    "    if e_num == r_num:\n",
    "        print(\"Perfect guess\")\n",
    "    elif e_num >= r_num:\n",
    "        print(\"Greater than hidden number!\")\n",
    "    elif e_num <= r_num:\n",
    "        print(\"Less than hidden number!\")\n",
    "    else:\n",
    "        print(\"try again\")\n",
    "print(\"\\n\\t\\tGAME OVER\")"
   ]
  },
  {
   "cell_type": "markdown",
   "metadata": {},
   "source": [
    "# Assignment # 5"
   ]
  },
  {
   "cell_type": "code",
   "execution_count": 49,
   "metadata": {},
   "outputs": [
    {
     "name": "stdout",
     "output_type": "stream",
     "text": [
      "Enter Number: 5\n",
      "The factorial of 5 is: 120\n"
     ]
    }
   ],
   "source": [
    "def fact(num):\n",
    "    factorial = 1\n",
    "    if num < 0:\n",
    "       print(\"Sorry, factorial does not exist for negative numbers\")\n",
    "    elif num == 0:\n",
    "       print(\"The factorial of 0 is: 1\")\n",
    "    else:\n",
    "       for i in range(1,num + 1):\n",
    "           factorial = factorial*i\n",
    "       print(\"The factorial of\",num,\"is:\",factorial)\n",
    "try:\n",
    "    num = int(input('Enter Number: '))\n",
    "except:\n",
    "    print('Enter Integer Numbers')\n",
    "else:\n",
    "    fact(num)"
   ]
  },
  {
   "cell_type": "code",
   "execution_count": 50,
   "metadata": {},
   "outputs": [
    {
     "name": "stdout",
     "output_type": "stream",
     "text": [
      "Original String :  My Name is Iqra Baluch\n",
      "No. of Upper case characters :  4\n",
      "No. of Lower case Characters :  14\n"
     ]
    }
   ],
   "source": [
    "def string(s):\n",
    "    d={\"UPPER_CASE\":0, \"LOWER_CASE\":0}\n",
    "    for c in s:\n",
    "        if c.isupper():\n",
    "           d[\"UPPER_CASE\"]+=1\n",
    "        elif c.islower():\n",
    "           d[\"LOWER_CASE\"]+=1\n",
    "        else:\n",
    "           pass\n",
    "    print (\"Original String : \", s)\n",
    "    print (\"No. of Upper case characters : \", d[\"UPPER_CASE\"])\n",
    "    print (\"No. of Lower case Characters : \", d[\"LOWER_CASE\"])\n",
    "\n",
    "string('My Name is Iqra Baluch')"
   ]
  },
  {
   "cell_type": "code",
   "execution_count": 51,
   "metadata": {},
   "outputs": [
    {
     "name": "stdout",
     "output_type": "stream",
     "text": [
      "Given List  [1, 4, 44, 55, 78, 99, 97, 114, 118]\n",
      "Even Numbers In A List Are:\n",
      "4\n",
      "44\n",
      "78\n",
      "114\n",
      "118\n"
     ]
    }
   ],
   "source": [
    "l=[1,4,44,55,78,99,97,114,118]\n",
    "\n",
    "def printEvenNo(List):\n",
    "    print('Given List ',List)\n",
    "    print('Even Numbers In A List Are:')\n",
    "    for i in List:\n",
    "        if i%2==0:\n",
    "            print(i)\n",
    "\n",
    "printEvenNo(l)"
   ]
  },
  {
   "cell_type": "code",
   "execution_count": 52,
   "metadata": {},
   "outputs": [
    {
     "name": "stdout",
     "output_type": "stream",
     "text": [
      "Given String Is (Hamza) Not A Palindrome\n",
      "Given String (Madam) Is Palindrome\n"
     ]
    }
   ],
   "source": [
    "def chkPal(string):\n",
    "    if string[:]==string[::-1]:\n",
    "        print(\"Given String (\"+string.title()+\") Is Palindrome\")\n",
    "    else:\n",
    "        print(\"Given String Is (\"+string.title()+\") Not A Palindrome\")\n",
    "\n",
    "chkPal('Hamza'.lower())\n",
    "chkPal('Madam'.lower())"
   ]
  },
  {
   "cell_type": "code",
   "execution_count": 53,
   "metadata": {},
   "outputs": [
    {
     "name": "stdout",
     "output_type": "stream",
     "text": [
      "Enter Number: 5\n",
      "5 is a prime number\n"
     ]
    }
   ],
   "source": [
    "def prime(num):\n",
    "    if num > 1:\n",
    "       for i in range(2,num):\n",
    "           if (num % i) == 0:\n",
    "               print(num,\"is not a prime number\")\n",
    "               print(i,\"x\",num//i,\"is\",num)\n",
    "               break\n",
    "       else:\n",
    "           print(num,\"is a prime number\")\n",
    "\n",
    "    else:\n",
    "       print(num,\"is not a prime number\")\n",
    "prime(int(input('Enter Number: ')))"
   ]
  },
  {
   "cell_type": "code",
   "execution_count": 54,
   "metadata": {},
   "outputs": [
    {
     "name": "stdout",
     "output_type": "stream",
     "text": [
      "You bought: Shirt\n",
      "You bought: Touser\n",
      "You bought: Shoes\n",
      "You bought: Toys\n",
      "You bought: Sweater\n",
      "\n",
      "Your Shopping List are/is: ['Shirt', 'Touser', 'Shoes', 'Toys', 'Sweater']\n"
     ]
    }
   ],
   "source": [
    "L=[]\n",
    "def shoppingCart(*items):\n",
    "    for i in items:\n",
    "        L.append(i)\n",
    "        print(\"You bought:\",i)\n",
    "    print('\\nYour Shopping List are/is:',L)\n",
    "shoppingCart(\"Shirt\",\"Touser\",\"Shoes\",\"Toys\",\"Sweater\")"
   ]
  },
  {
   "cell_type": "markdown",
   "metadata": {},
   "source": [
    "# Assignment # 6"
   ]
  },
  {
   "cell_type": "markdown",
   "metadata": {},
   "source": [
    "# Question 1:\n",
    "Define Object Oriented Programming Language?\n",
    "Answer:\n",
    " Object Oriented Programming Language is the language where the code can be structured as reusable components, some of which may share properties or behaviors."
   ]
  },
  {
   "cell_type": "markdown",
   "metadata": {},
   "source": [
    "# List down the Benefits of OOP?"
   ]
  },
  {
   "cell_type": "markdown",
   "metadata": {},
   "source": [
    "->Reuse of code through inheritance \n",
    "->Flexibility through polymorphism \n",
    "->Effective problem solving,\n",
    "->Higher-quality software\n",
    "->Lower cost of development\n",
    "->Faster development\n",
    "->Improved software maintainability\n",
    "->Improved software-development productivity"
   ]
  },
  {
   "cell_type": "markdown",
   "metadata": {},
   "source": [
    "# Differentiate between function and method?\n"
   ]
  },
  {
   "cell_type": "markdown",
   "metadata": {},
   "source": [
    "#  function "
   ]
  },
  {
   "cell_type": "markdown",
   "metadata": {},
   "source": [
    "\"A function is a piece of code that is called by name. It can be passed data to operate on (i.e. the parameters) and can optionally return data (the return value). All data that is passed to a function is explicitly passed."
   ]
  },
  {
   "cell_type": "markdown",
   "metadata": {},
   "source": [
    "# method"
   ]
  },
  {
   "cell_type": "markdown",
   "metadata": {},
   "source": [
    "A method is a piece of code that is called by a name that is associated with an object."
   ]
  },
  {
   "cell_type": "markdown",
   "metadata": {},
   "source": [
    "# Question 4: Define the following terms:"
   ]
  },
  {
   "cell_type": "markdown",
   "metadata": {},
   "source": [
    "# 1. Class"
   ]
  },
  {
   "cell_type": "markdown",
   "metadata": {},
   "source": [
    "A Class is like an object constructor, or a blueprint for creating objects."
   ]
  },
  {
   "cell_type": "markdown",
   "metadata": {},
   "source": [
    "# 2. Object"
   ]
  },
  {
   "cell_type": "markdown",
   "metadata": {},
   "source": [
    "An object is an instance of a class. Class"
   ]
  },
  {
   "cell_type": "markdown",
   "metadata": {},
   "source": [
    "# 3. Attribute"
   ]
  },
  {
   "cell_type": "markdown",
   "metadata": {},
   "source": [
    "Functionalites can be define by setting various attributes"
   ]
  },
  {
   "cell_type": "markdown",
   "metadata": {},
   "source": [
    "# 4. Behavior"
   ]
  },
  {
   "cell_type": "markdown",
   "metadata": {},
   "source": [
    "defnes object in class"
   ]
  },
  {
   "cell_type": "markdown",
   "metadata": {},
   "source": [
    "# Question 5:Write a code in python in which create a class named it Car which have 5 attributes such like (model, color and name etc.) and 3 methods. And create 5 object instance from that class."
   ]
  },
  {
   "cell_type": "code",
   "execution_count": 83,
   "metadata": {},
   "outputs": [
    {
     "ename": "SyntaxError",
     "evalue": "invalid syntax (<ipython-input-83-6188537ad5d7>, line 9)",
     "output_type": "error",
     "traceback": [
      "\u001b[1;36m  File \u001b[1;32m\"<ipython-input-83-6188537ad5d7>\"\u001b[1;36m, line \u001b[1;32m9\u001b[0m\n\u001b[1;33m    car3 = Car(\"Civic\" , \"yellow\" 78)\u001b[0m\n\u001b[1;37m                                   ^\u001b[0m\n\u001b[1;31mSyntaxError\u001b[0m\u001b[1;31m:\u001b[0m invalid syntax\n"
     ]
    }
   ],
   "source": [
    "class Car():\n",
    "    def__init__ (self,car,color,model)\n",
    "    self.car = car\n",
    "    self.color = color\n",
    "    self.model = model\n",
    "    \n",
    "car1 = Car(\"Vits\" , \"White\" ,278)\n",
    "car2 = Car(\"Corolla\" , \"Black\" , 68)\n",
    "car3 = Car(\"Civic\" , \"yellow\" 78)\n",
    "\n",
    "print(car1)"
   ]
  },
  {
   "cell_type": "code",
   "execution_count": null,
   "metadata": {},
   "outputs": [],
   "source": []
  }
 ],
 "metadata": {
  "kernelspec": {
   "display_name": "Python 3",
   "language": "python",
   "name": "python3"
  },
  "language_info": {
   "codemirror_mode": {
    "name": "ipython",
    "version": 3
   },
   "file_extension": ".py",
   "mimetype": "text/x-python",
   "name": "python",
   "nbconvert_exporter": "python",
   "pygments_lexer": "ipython3",
   "version": "3.7.4"
  }
 },
 "nbformat": 4,
 "nbformat_minor": 2
}
